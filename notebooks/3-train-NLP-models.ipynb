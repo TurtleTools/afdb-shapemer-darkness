{
 "cells": [
  {
   "cell_type": "code",
   "execution_count": null,
   "metadata": {
    "collapsed": true,
    "pycharm": {
     "name": "#%%\n"
    }
   },
   "outputs": [],
   "source": [
    "% load_ext autoreload\n",
    "% autoreload 2"
   ]
  },
  {
   "cell_type": "code",
   "execution_count": null,
   "outputs": [],
   "source": [
    "import itertools\n",
    "import logging\n",
    "import pickle\n",
    "from multiprocessing import Pool\n",
    "from pathlib import Path\n",
    "\n",
    "import matplotlib.pyplot as plt\n",
    "import numpy as np\n",
    "from gensim.models import Word2Vec\n",
    "from kneed import KneeLocator\n",
    "from sklearn.decomposition import NMF\n",
    "from sklearn.ensemble import IsolationForest\n",
    "from sklearn.feature_extraction.text import TfidfVectorizer\n",
    "from tqdm.notebook import tqdm"
   ],
   "metadata": {
    "collapsed": false,
    "pycharm": {
     "name": "#%%\n"
    }
   }
  },
  {
   "cell_type": "code",
   "execution_count": null,
   "outputs": [],
   "source": [
    "logging.basicConfig(format='%(asctime)s : %(levelname)s : %(message)s', level=logging.INFO)"
   ],
   "metadata": {
    "collapsed": false,
    "pycharm": {
     "name": "#%%\n"
    }
   }
  },
  {
   "cell_type": "code",
   "execution_count": null,
   "outputs": [],
   "source": [
    "uniref_s_file = \"data/uniref50_10_70_95_shapemers.txt\"\n",
    "uniref_i_file = \"data/uniref50_10_70_95_indices.txt\"\n",
    "uniref_wv_file = \"data/uniref50_10_70_95_word2vec.txt\"\n",
    "uniref_topic_file = \"data/uniref50_casp12_nmf_400.pkl\"\n",
    "\n",
    "pdb_s_file = \"data/pdb_chain_10_shapemers.txt\"\n",
    "pdb_i_file = \"data/pdb_chain_10_indices.txt\"\n",
    "pdb_wv_file = \"data/pdb_chain_10_word2vec.txt\"\n",
    "pdb_topic_file = \"data/pdb_casp12_nmf_400.pkl\"\n",
    "\n",
    "swissprot_s_file = \"data/v2_shapemers/swissprot_10_shapemers.txt\"\n",
    "swissprot_i_file = \"data/v2_shapemers/swissprot_10_indices.txt\"\n",
    "swissprot_wv_file = \"data/swissprot_10_word2vec.txt\""
   ],
   "metadata": {
    "collapsed": false,
    "pycharm": {
     "name": "#%%\n"
    }
   }
  },
  {
   "cell_type": "markdown",
   "source": [
    "# Topic modelling"
   ],
   "metadata": {
    "collapsed": false,
    "pycharm": {
     "name": "#%% md\n"
    }
   }
  },
  {
   "cell_type": "code",
   "execution_count": null,
   "outputs": [],
   "source": [
    "corpus_file = Path(\"data/v2_shapemers/casp12_10_shapemers.txt\")\n",
    "keys_corpus = (line.strip().split(\"\\t\") for line in tqdm(open(corpus_file)) if len(line.strip().split(\"\\t\")) == 2)\n",
    "keys, corpus = itertools.tee(keys_corpus)\n",
    "keys = [k[0] for k in keys]\n",
    "corpus = (k[1] for k in corpus)"
   ],
   "metadata": {
    "collapsed": false,
    "pycharm": {
     "name": "#%%\n"
    }
   }
  },
  {
   "cell_type": "code",
   "execution_count": null,
   "outputs": [],
   "source": [
    "vectorizer = TfidfVectorizer(min_df=0)\n",
    "tfidf_matrix = vectorizer.fit_transform(corpus)"
   ],
   "metadata": {
    "collapsed": false,
    "pycharm": {
     "name": "#%%\n"
    }
   }
  },
  {
   "cell_type": "code",
   "execution_count": null,
   "outputs": [],
   "source": [
    "num_topics = 1000\n",
    "topic_model = NMF(n_components=num_topics,\n",
    "                  random_state=42,\n",
    "                  solver='cd', tol=0.001,\n",
    "                  alpha=.1,\n",
    "                  l1_ratio=.5,\n",
    "                  verbose=1)\n",
    "w_matrix = topic_model.fit_transform(tfidf_matrix)"
   ],
   "metadata": {
    "collapsed": false,
    "pycharm": {
     "name": "#%%\n"
    }
   }
  },
  {
   "cell_type": "code",
   "execution_count": null,
   "outputs": [],
   "source": [
    "with open(f\"data/casp12_nmf_{num_topics}_model.pkl\", \"wb\") as f:\n",
    "    pickle.dump((vectorizer, topic_model), f)"
   ],
   "metadata": {
    "collapsed": false,
    "pycharm": {
     "name": "#%%\n"
    }
   }
  },
  {
   "cell_type": "code",
   "execution_count": null,
   "outputs": [],
   "source": [
    "uniref50_corpus_file = uniref_s_file\n",
    "keys_corpus = (line.strip().split(\"\\t\") for line in tqdm(open(uniref50_corpus_file)) if\n",
    "               len(line.strip().split(\"\\t\")) == 2)\n",
    "uniref50_keys, uniref50_corpus = itertools.tee(keys_corpus)\n",
    "uniref50_keys = [k[0] for k in uniref50_keys]\n",
    "uniref50_corpus = (k[1] for k in uniref50_corpus)\n",
    "uniref50_tfidf_matrix = vectorizer.transform(uniref50_corpus)\n",
    "uniref50_w_matrix = topic_model.transform(uniref50_tfidf_matrix)\n",
    "with open(f\"data/uniref50_casp12_nmf_{num_topics}.pkl\", \"wb\") as f:\n",
    "    pickle.dump((uniref50_keys, uniref50_tfidf_matrix, uniref50_w_matrix), f)"
   ],
   "metadata": {
    "collapsed": false,
    "pycharm": {
     "name": "#%%\n"
    }
   }
  },
  {
   "cell_type": "code",
   "execution_count": null,
   "outputs": [],
   "source": [
    "pdb_corpus_file = pdb_s_file\n",
    "keys_corpus = (line.strip().split(\"\\t\") for line in tqdm(open(pdb_corpus_file)) if len(line.strip().split(\"\\t\")) == 2)\n",
    "pdb_keys, pdb_corpus = itertools.tee(keys_corpus)\n",
    "pdb_keys = [k[0] for k in pdb_keys]\n",
    "pdb_corpus = (k[1] for k in pdb_corpus)\n",
    "pdb_tfidf_matrix = vectorizer.transform(pdb_corpus)\n",
    "pdb_w_matrix = topic_model.transform(pdb_tfidf_matrix)\n",
    "with open(f\"data/pdb_casp12_nmf_{num_topics}.pkl\", \"wb\") as f:\n",
    "    pickle.dump((pdb_keys, pdb_tfidf_matrix, pdb_w_matrix), f)"
   ],
   "metadata": {
    "collapsed": false,
    "pycharm": {
     "name": "#%%\n"
    }
   }
  },
  {
   "cell_type": "code",
   "execution_count": null,
   "outputs": [],
   "source": [
    "with open(pdb_topic_file, \"rb\") as f:\n",
    "    t_pdb_keys, _pdb_tfidf_matrix, pdb_w_matrix = pickle.load(f)\n",
    "\n",
    "with open(uniref_topic_file, \"rb\") as f:\n",
    "    t_uniref_keys, _uniref_tfidf_matrix, uniref_w_matrix = pickle.load(f)\n",
    "\n",
    "t_keys = t_pdb_keys + t_uniref_keys\n",
    "with open(\"data/pdb_uniref50_topic_w_matrix.pkl\", \"wb\") as f:\n",
    "    pickle.dump((t_keys, np.vstack((pdb_w_matrix, uniref_w_matrix))), f)"
   ],
   "metadata": {
    "collapsed": false,
    "pycharm": {
     "name": "#%%\n"
    }
   }
  },
  {
   "cell_type": "code",
   "execution_count": null,
   "outputs": [],
   "source": [
    "def get_sorted_proteins(keys, idx, matrix, S=2, plot=False):\n",
    "    kn = KneeLocator(np.arange(matrix.shape[0]),\n",
    "                     np.sort(matrix[:, idx])[::-1],\n",
    "                     S=S,\n",
    "                     curve='convex',\n",
    "                     direction='decreasing')\n",
    "    if plot:\n",
    "        kn.plot_knee()\n",
    "        plt.show()\n",
    "    if kn.knee_y is None:\n",
    "        return [], np.zeros(0)\n",
    "    values = matrix[:, idx]\n",
    "    indices = np.argsort(values)[::-1]\n",
    "    indices = [i for i in indices if values[i] > kn.knee_y]\n",
    "    if plot:\n",
    "        print(len(indices),\n",
    "              sum(1 for i in indices if \"-\" not in keys[i]),\n",
    "              sum(1 for i in indices if \"-\" in keys[i]))\n",
    "    return [keys[i] for i in indices], values[indices]"
   ],
   "metadata": {
    "collapsed": false,
    "pycharm": {
     "name": "#%%\n"
    }
   }
  },
  {
   "cell_type": "code",
   "execution_count": null,
   "outputs": [],
   "source": [
    "topics_to_proteins = {}\n",
    "for topic_id in tqdm(range(w_matrix.shape[1])):\n",
    "    topics_to_proteins[topic_id] = []\n",
    "    if np.sum(w_matrix[:, topic_id]) == 0:\n",
    "        continue\n",
    "    protein_ids, scores = get_sorted_proteins(t_keys, topic_id,\n",
    "                                              w_matrix,\n",
    "                                              S=4, plot=False)\n",
    "    if scores.sum() > 0:\n",
    "        topics_to_proteins[topic_id] = list(zip(list(protein_ids), list(scores)))"
   ],
   "metadata": {
    "collapsed": false,
    "pycharm": {
     "name": "#%%\n"
    }
   }
  },
  {
   "cell_type": "code",
   "execution_count": null,
   "outputs": [],
   "source": [
    "with open(\"data/topics_to_proteins.pkl\", \"wb\") as f:\n",
    "    pickle.dump(topics_to_proteins, f)"
   ],
   "metadata": {
    "collapsed": false,
    "pycharm": {
     "name": "#%%\n"
    }
   }
  },
  {
   "cell_type": "markdown",
   "source": [
    "# Word2Vec"
   ],
   "metadata": {
    "collapsed": false,
    "pycharm": {
     "name": "#%% md\n"
    }
   }
  },
  {
   "cell_type": "code",
   "execution_count": null,
   "outputs": [],
   "source": [
    "corpus_folder = Path(\"data/corpus_10\")\n",
    "corpus_folder.mkdir(exist_ok=True)"
   ],
   "metadata": {
    "collapsed": false,
    "pycharm": {
     "name": "#%%\n"
    }
   }
  },
  {
   "cell_type": "code",
   "execution_count": null,
   "outputs": [],
   "source": [
    "pdb_corpus_file = \"data/pdb_chain_10_shapemers.txt\""
   ],
   "metadata": {
    "collapsed": false,
    "pycharm": {
     "name": "#%%\n"
    }
   }
  },
  {
   "cell_type": "code",
   "execution_count": null,
   "outputs": [],
   "source": [
    "corpus_sentences_file = corpus_folder / \"pdb_chain_corpus_sentences.txt\"\n",
    "corpus_keys_file = corpus_folder / \"pdb_chain_corpus_keys.txt\""
   ],
   "metadata": {
    "collapsed": false,
    "pycharm": {
     "name": "#%%\n"
    }
   }
  },
  {
   "cell_type": "code",
   "execution_count": null,
   "outputs": [],
   "source": [
    "with open(corpus_sentences_file, \"w\") as s_f:\n",
    "    with open(corpus_keys_file, \"w\") as k_f:\n",
    "        with open(pdb_corpus_file) as f:\n",
    "            for line in tqdm(f):\n",
    "                parts = line.strip().split(\"\\t\")\n",
    "                if len(parts) != 2:\n",
    "                    continue\n",
    "                key, shapemers = parts\n",
    "                k_f.write(f\"{key}\\n\")\n",
    "                s_f.write(f\"{shapemers}\\n\")"
   ],
   "metadata": {
    "collapsed": false,
    "pycharm": {
     "name": "#%%\n"
    }
   }
  },
  {
   "cell_type": "code",
   "execution_count": null,
   "outputs": [],
   "source": [
    "word2vec = Word2Vec(vector_size=1024, window=16, min_count=2, workers=32)\n",
    "word2vec.build_vocab(corpus_file=str(corpus_sentences_file))\n",
    "word2vec.train(\n",
    "    corpus_file=str(corpus_sentences_file), epochs=word2vec.epochs,\n",
    "    total_examples=word2vec.corpus_count, total_words=word2vec.corpus_total_words,\n",
    ")\n",
    "word2vec.save(str(corpus_folder / \"pdb_chain_word2vec_1024.model\"))"
   ],
   "metadata": {
    "collapsed": false,
    "pycharm": {
     "name": "#%%\n"
    }
   }
  },
  {
   "cell_type": "markdown",
   "source": [
    "# Isolation Forest"
   ],
   "metadata": {
    "collapsed": false,
    "pycharm": {
     "name": "#%% md\n"
    }
   }
  },
  {
   "cell_type": "code",
   "execution_count": null,
   "outputs": [],
   "source": [
    "word2vec = Word2Vec.load(str(corpus_folder / \"pdb_chain_word2vec_1024.model\"), mmap='r')"
   ],
   "metadata": {
    "collapsed": false,
    "pycharm": {
     "name": "#%%\n"
    }
   }
  },
  {
   "cell_type": "code",
   "execution_count": null,
   "outputs": [],
   "source": [
    "pdb_keys = []\n",
    "with open(pdb_corpus_file) as f:\n",
    "    for line in tqdm(f):\n",
    "        key, _ = line.strip().split(\"\\t\")\n",
    "        pdb_keys.append(key)"
   ],
   "metadata": {
    "collapsed": false,
    "pycharm": {
     "name": "#%%\n"
    }
   }
  },
  {
   "cell_type": "code",
   "execution_count": null,
   "outputs": [],
   "source": [
    "word_vectors = word2vec.wv.get_normed_vectors()\n",
    "\n",
    "\n",
    "def infer_vector_worker(document):\n",
    "    vector = np.array(\n",
    "        [word_vectors[word2vec.wv.key_to_index[y]] for y in document if y in word2vec.wv.key_to_index]).mean(axis=0)\n",
    "    return vector\n",
    "\n",
    "\n",
    "with open(pdb_corpus_file) as f:\n",
    "    with Pool(processes=100) as pool:\n",
    "        pdb_word2vec = list(tqdm(pool.imap(infer_vector_worker,\n",
    "                                           (list(line.strip().split(\"\\t\")[1].split()) for line in f)),\n",
    "                                 total=len(pdb_keys)))\n",
    "pdb_word2vec = np.array(pdb_word2vec)"
   ],
   "metadata": {
    "collapsed": false,
    "pycharm": {
     "name": "#%%\n"
    }
   }
  },
  {
   "cell_type": "code",
   "execution_count": null,
   "outputs": [],
   "source": [
    "forest = IsolationForest(n_jobs=100, verbose=True, contamination=0.05)\n",
    "forest.fit(pdb_word2vec)"
   ],
   "metadata": {
    "collapsed": false,
    "pycharm": {
     "name": "#%%\n"
    }
   }
  },
  {
   "cell_type": "code",
   "execution_count": null,
   "outputs": [],
   "source": [
    "pdb_scores = forest.decision_function(pdb_word2vec)"
   ],
   "metadata": {
    "collapsed": false,
    "pycharm": {
     "name": "#%%\n"
    }
   }
  },
  {
   "cell_type": "code",
   "execution_count": null,
   "outputs": [],
   "source": [
    "with open(\"data/pdb_chain_word2vec_isolation_forest.pkl\", \"wb\") as f:\n",
    "    pickle.dump(forest, f)"
   ],
   "metadata": {
    "collapsed": false,
    "pycharm": {
     "name": "#%%\n"
    }
   }
  },
  {
   "cell_type": "code",
   "execution_count": null,
   "outputs": [],
   "source": [
    "def write_vector_score_worker(document):\n",
    "    key, shapemers = document.strip().split(\"\\t\")\n",
    "    vector = np.array(\n",
    "        [word_vectors[word2vec.wv.key_to_index[y]] for y in shapemers.split() if y in word2vec.wv.key_to_index]).mean(\n",
    "        axis=0)\n",
    "    score = forest.decision_function([vector])[0]\n",
    "    return key, \" \".join(str(s) for s in vector), score\n",
    "\n",
    "\n",
    "for filename in [uniref_s_file, pdb_s_file, swissprot_s_file]:\n",
    "    with open(filename) as f:\n",
    "        total = sum(1 for line in f)\n",
    "    with Pool(processes=100) as pool:\n",
    "        with open(filename) as f:\n",
    "            lines = (line for line in f)\n",
    "            with open(Path(\"data\") / (filename.stem.split(\"_shapemers\")[0] + \"_word2vec.txt\"), 'w') as f1:\n",
    "                for key, vector, score in tqdm(pool.imap(write_vector_score_worker, lines),\n",
    "                                               total=total):\n",
    "                    f1.write(f\"{key}\\t{vector}\\t{score}\\n\")"
   ],
   "metadata": {
    "collapsed": false,
    "pycharm": {
     "name": "#%%\n"
    }
   }
  },
  {
   "cell_type": "code",
   "execution_count": null,
   "outputs": [],
   "source": [
    "wv_keys = []\n",
    "wv_embeddings = []\n",
    "wv_scores = {}\n",
    "\n",
    "with open(pdb_wv_file) as f:\n",
    "    for line in tqdm(f):\n",
    "        key, vector, score = line.strip().split(\"\\t\")\n",
    "        wv_keys.append(key)\n",
    "        wv_embeddings.append(list(map(float, vector.split())))\n",
    "        wv_scores[key] = float(score)\n",
    "\n",
    "with open(uniref_wv_file) as f:\n",
    "    for line in tqdm(f):\n",
    "        key, vector, score = line.strip().split(\"\\t\")\n",
    "        wv_keys.append(key)\n",
    "        wv_embeddings.append(list(map(float, vector.split())))\n",
    "        wv_scores[key] = float(score)\n",
    "\n",
    "with open(\"data/pdb_uniref50_word2vec_embeddings_scores.pkl\", \"wb\") as f:\n",
    "    pickle.dump((wv_keys, np.array(wv_embeddings), wv_scores), f)"
   ],
   "metadata": {
    "collapsed": false,
    "pycharm": {
     "name": "#%%\n"
    }
   }
  }
 ],
 "metadata": {
  "kernelspec": {
   "display_name": "Python 3",
   "language": "python",
   "name": "python3"
  },
  "language_info": {
   "codemirror_mode": {
    "name": "ipython",
    "version": 2
   },
   "file_extension": ".py",
   "mimetype": "text/x-python",
   "name": "python",
   "nbconvert_exporter": "python",
   "pygments_lexer": "ipython2",
   "version": "2.7.6"
  }
 },
 "nbformat": 4,
 "nbformat_minor": 0
}